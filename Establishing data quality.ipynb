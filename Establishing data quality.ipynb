{
 "cells": [
  {
   "cell_type": "markdown",
   "metadata": {},
   "source": [
    "# Analysis and improvement of data quality"
   ]
  },
  {
   "cell_type": "code",
   "execution_count": 145,
   "metadata": {},
   "outputs": [],
   "source": [
    "# File management libraries\n",
    "import os\n",
    "import datetime\n",
    "import io\n",
    "\n",
    "# Data manipulation libraries\n",
    "import pandas as pd\n",
    "import numpy as np\n",
    "import math\n",
    "\n",
    "# Data visualization libraries\n",
    "import matplotlib.pyplot as plt\n",
    "import plotly.express as px\n",
    "import plotly.graph_objects as go\n",
    "import seaborn as sns\n",
    "\n",
    "# Jupyter notebook integration libraries\n",
    "import ipywidgets as widgets\n",
    "from ipywidgets import VBox, HBox, Label, Box, interactive\n",
    "from ipywidgets import Layout, FileUpload, interact, Dropdown\n",
    "from IPython.display import Markdown, display, clear_output\n",
    "\n",
    "\n",
    "# Cloud storage libraries\n",
    "import boto3\n",
    "\n",
    "\n",
    "def printmd(string):\n",
    "    display(Markdown(string))\n",
    "    \n",
    "# Global variables declaration\n",
    "customised_missing_values = []"
   ]
  },
  {
   "cell_type": "markdown",
   "metadata": {},
   "source": [
    "## Data collection"
   ]
  },
  {
   "cell_type": "markdown",
   "metadata": {},
   "source": [
    "### Method 1: Direct upload"
   ]
  },
  {
   "cell_type": "code",
   "execution_count": 18,
   "metadata": {
    "scrolled": true
   },
   "outputs": [],
   "source": [
    "# ----- For testing purposes ------\n",
    "file_path = \"./Datasets/dementiadatacollectionoctober2014csv15kb.csv\"\n",
    "data = pd.read_csv(file_path)"
   ]
  },
  {
   "cell_type": "markdown",
   "metadata": {},
   "source": [
    "### Method 2: Upload"
   ]
  },
  {
   "cell_type": "code",
   "execution_count": 26,
   "metadata": {},
   "outputs": [
    {
     "data": {
      "application/vnd.jupyter.widget-view+json": {
       "model_id": "224488807c3a4f1894f0d21f002d5964",
       "version_major": 2,
       "version_minor": 0
      },
      "text/plain": [
       "FileUpload(value={}, description='Upload')"
      ]
     },
     "metadata": {},
     "output_type": "display_data"
    }
   ],
   "source": [
    "# Shows the upload widget\n",
    "upload = FileUpload(accept='')\n",
    "upload"
   ]
  },
  {
   "cell_type": "markdown",
   "metadata": {},
   "source": [
    "### Method 2: Validating data upload"
   ]
  },
  {
   "cell_type": "code",
   "execution_count": 84,
   "metadata": {},
   "outputs": [],
   "source": [
    "try:\n",
    "    upload.value\n",
    "    uploaded_filename = next(iter(upload.value))\n",
    "    new_filename = uploaded_filename[:-3] + 'csv'\n",
    "    content = upload.value[uploaded_filename]['content']\n",
    "    file_path = os.path.abspath(uploaded_filename)\n",
    "    filename, file_extension = os.path.splitext(file_path)\n",
    "    data = pd.read_csv(io.BytesIO(content), header=0, escapechar='\\\\', encoding= 'unicode_escape')\n",
    "    \n",
    "except StopIteration:\n",
    "    printmd(\"#### No file was selected. Re-use the upload button.\")"
   ]
  },
  {
   "cell_type": "markdown",
   "metadata": {},
   "source": [
    "### Data set preview "
   ]
  },
  {
   "cell_type": "code",
   "execution_count": 71,
   "metadata": {
    "scrolled": true
   },
   "outputs": [
    {
     "data": {
      "text/html": [
       "<div>\n",
       "<style scoped>\n",
       "    .dataframe tbody tr th:only-of-type {\n",
       "        vertical-align: middle;\n",
       "    }\n",
       "\n",
       "    .dataframe tbody tr th {\n",
       "        vertical-align: top;\n",
       "    }\n",
       "\n",
       "    .dataframe thead th {\n",
       "        text-align: right;\n",
       "    }\n",
       "</style>\n",
       "<table border=\"1\" class=\"dataframe\">\n",
       "  <thead>\n",
       "    <tr style=\"text-align: right;\">\n",
       "      <th></th>\n",
       "      <th>OA11CD</th>\n",
       "      <th>LAD11NM</th>\n",
       "      <th>Percentage of people that received health care</th>\n",
       "    </tr>\n",
       "  </thead>\n",
       "  <tbody>\n",
       "    <tr>\n",
       "      <th>0</th>\n",
       "      <td>E00024024</td>\n",
       "      <td>Westminster</td>\n",
       "      <td>17.953073</td>\n",
       "    </tr>\n",
       "    <tr>\n",
       "      <th>1</th>\n",
       "      <td>E00023833</td>\n",
       "      <td>Westminster</td>\n",
       "      <td>18.183844</td>\n",
       "    </tr>\n",
       "    <tr>\n",
       "      <th>2</th>\n",
       "      <td>E00023830</td>\n",
       "      <td>Westminster</td>\n",
       "      <td>18.732058</td>\n",
       "    </tr>\n",
       "    <tr>\n",
       "      <th>3</th>\n",
       "      <td>E00023831</td>\n",
       "      <td>Westminster</td>\n",
       "      <td>17.909357</td>\n",
       "    </tr>\n",
       "    <tr>\n",
       "      <th>4</th>\n",
       "      <td>E00024021</td>\n",
       "      <td>Westminster</td>\n",
       "      <td>17.185809</td>\n",
       "    </tr>\n",
       "  </tbody>\n",
       "</table>\n",
       "</div>"
      ],
      "text/plain": [
       "      OA11CD      LAD11NM  Percentage of people that received health care\n",
       "0  E00024024  Westminster                                       17.953073\n",
       "1  E00023833  Westminster                                       18.183844\n",
       "2  E00023830  Westminster                                       18.732058\n",
       "3  E00023831  Westminster                                       17.909357\n",
       "4  E00024021  Westminster                                       17.185809"
      ]
     },
     "execution_count": 71,
     "metadata": {},
     "output_type": "execute_result"
    }
   ],
   "source": [
    "data.head()"
   ]
  },
  {
   "cell_type": "markdown",
   "metadata": {},
   "source": [
    "# General data set metadata"
   ]
  },
  {
   "cell_type": "code",
   "execution_count": 73,
   "metadata": {},
   "outputs": [
    {
     "data": {
      "text/markdown": [
       "### Descriptive metadata\n"
      ],
      "text/plain": [
       "<IPython.core.display.Markdown object>"
      ]
     },
     "metadata": {},
     "output_type": "display_data"
    },
    {
     "name": "stdout",
     "output_type": "stream",
     "text": [
      "Format: csv\n",
      "Size: 77838 elements\n"
     ]
    },
    {
     "data": {
      "text/markdown": [
       "### Structural metadata\n"
      ],
      "text/plain": [
       "<IPython.core.display.Markdown object>"
      ]
     },
     "metadata": {},
     "output_type": "display_data"
    },
    {
     "name": "stdout",
     "output_type": "stream",
     "text": [
      "All column names: ['OA11CD', 'LAD11NM', 'Percentage of people that received health care']\n",
      "\n",
      "Total number of values: \n",
      "\n",
      "OA11CD                                            25946\n",
      "LAD11NM                                           25946\n",
      "Percentage of people that received health care    25946\n",
      "dtype: int64 \n",
      "\n",
      "Unique values distribution: \n",
      "\n",
      " OA11CD                                            25053\n",
      "LAD11NM                                              33\n",
      "Percentage of people that received health care    25053\n",
      "Name: Unique_Values, dtype: int64\n",
      "\n",
      "Data types: \n",
      "\n",
      " OA11CD                                             object\n",
      "LAD11NM                                            object\n",
      "Percentage of people that received health care    float64\n",
      "Name: Type_Data, dtype: object\n"
     ]
    }
   ],
   "source": [
    "printmd(\"### Descriptive metadata\\n\")\n",
    "    \n",
    "filename, file_extension = os.path.splitext(file_path)\n",
    "file_extension = file_extension.replace(\".\", \"\")\n",
    "\n",
    "df_features = pd.DataFrame(index = data.columns)\n",
    "df_features['Unique_Values'] = list(map(lambda x: data[x].value_counts().count(), data.columns))\n",
    "df_features['Type_Data'] = list(map(lambda x: data[x].dtype, data.columns))\n",
    "\n",
    "print(\"Format: {}\".format(file_extension))\n",
    "print(\"Size: {} elements\".format(data.size))\n",
    "\n",
    "\n",
    "printmd(\"### Structural metadata\\n\")\n",
    "print(\"All column names: {}\\n\".format(list(data.columns)))\n",
    "# data.isna().sum() is needed because the count function only returns the total number of non-na elements\n",
    "print(\"Total number of values: \\n\\n{} \".format(data.count() + data.isna().sum()))\n",
    "print(\"\\nUnique values distribution: \\n\\n\", df_features['Unique_Values'])\n",
    "print(\"\\nData types: \\n\\n\", df_features['Type_Data'])\n",
    "\n"
   ]
  },
  {
   "cell_type": "markdown",
   "metadata": {},
   "source": [
    "# Values distribution for a specific column"
   ]
  },
  {
   "cell_type": "code",
   "execution_count": 76,
   "metadata": {
    "scrolled": false
   },
   "outputs": [
    {
     "data": {
      "text/markdown": [
       "#### Select a column from the list below:"
      ],
      "text/plain": [
       "<IPython.core.display.Markdown object>"
      ]
     },
     "metadata": {},
     "output_type": "display_data"
    },
    {
     "data": {
      "application/vnd.jupyter.widget-view+json": {
       "model_id": "190455a2e9f64459a5deb57ca18f7484",
       "version_major": 2,
       "version_minor": 0
      },
      "text/plain": [
       "Dropdown(description='Column: ', options=('OA11CD', 'LAD11NM', 'Percentage of people that received health care…"
      ]
     },
     "metadata": {},
     "output_type": "display_data"
    },
    {
     "data": {
      "application/vnd.jupyter.widget-view+json": {
       "model_id": "dfd75a29e96941d9b794cdd955ec6b79",
       "version_major": 2,
       "version_minor": 0
      },
      "text/plain": [
       "Output()"
      ]
     },
     "metadata": {},
     "output_type": "display_data"
    }
   ],
   "source": [
    "def compute_values_dist_column(column_name):\n",
    "    plt.figure(figsize=(20,5))\n",
    "    if df_features['Unique_Values'][column_name] > 100:\n",
    "         fig = px.histogram(data, x=column_name,\n",
    "                            color_discrete_sequence =['#d595e8'],\n",
    "                            barmode=\"group\",\n",
    "                            title=\"Values distribution for column '{}'\".format(column_name)) \\\n",
    "                                .update_yaxes(categoryorder=\"total ascending\")\n",
    "    else:\n",
    "         fig = px.histogram(data, y=column_name,\n",
    "                            color_discrete_sequence =['#d595e8'],\n",
    "                            barmode=\"group\", \n",
    "                            title=\"Values distribution for column '{}'\".format(column_name)) \\\n",
    "                                .update_yaxes(categoryorder=\"total ascending\")\n",
    "    fig.show()\n",
    "\n",
    "\n",
    "def on_change(change):\n",
    "    with outs:\n",
    "        clear_output(wait=True)\n",
    "        if change['type'] == 'change' and change['name'] == 'value':\n",
    "            compute_values_dist_column(change['new'])\n",
    "\n",
    "            \n",
    "printmd(\"#### Select a column from the list below:\")\n",
    "w = widgets.Dropdown(options = data.columns, description=\"Column: \", value = None)\n",
    "outs = widgets.Output()\n",
    "\n",
    "w.observe(on_change, names='value')\n",
    "\n",
    "display(w)\n",
    "display(outs)\n",
    "\n",
    "# Clean up\n",
    "with outs:\n",
    "    clear_output()\n"
   ]
  },
  {
   "cell_type": "markdown",
   "metadata": {},
   "source": [
    "#  Unique values for a specific column"
   ]
  },
  {
   "cell_type": "code",
   "execution_count": 80,
   "metadata": {},
   "outputs": [
    {
     "data": {
      "text/markdown": [
       "#### Select a column from the list below:"
      ],
      "text/plain": [
       "<IPython.core.display.Markdown object>"
      ]
     },
     "metadata": {},
     "output_type": "display_data"
    },
    {
     "data": {
      "application/vnd.jupyter.widget-view+json": {
       "model_id": "c41d793ae79a43f9ab58b4784e1616f3",
       "version_major": 2,
       "version_minor": 0
      },
      "text/plain": [
       "Dropdown(description='Column: ', options=('OA11CD', 'LAD11NM', 'Percentage of people that received health care…"
      ]
     },
     "metadata": {},
     "output_type": "display_data"
    },
    {
     "data": {
      "application/vnd.jupyter.widget-view+json": {
       "model_id": "35921210365e43529d6985d4768ea7a4",
       "version_major": 2,
       "version_minor": 0
      },
      "text/plain": [
       "Output()"
      ]
     },
     "metadata": {},
     "output_type": "display_data"
    },
    {
     "data": {
      "text/plain": [
       "<Figure size 2880x1080 with 0 Axes>"
      ]
     },
     "metadata": {},
     "output_type": "display_data"
    },
    {
     "data": {
      "text/plain": [
       "<Figure size 2880x1080 with 0 Axes>"
      ]
     },
     "metadata": {},
     "output_type": "display_data"
    }
   ],
   "source": [
    "# Retrieve the unique values and their number of appearances\n",
    "def get_unique_values_count(data, selected_column_name):\n",
    "    return [data[selected_column_name].value_counts().index.tolist(), data[selected_column_name].value_counts()]\n",
    "\n",
    "# Table creation method\n",
    "def unique_values_table_generation(unique_values, column_name):\n",
    "    try:\n",
    "        plt.figure(figsize=(40, 15))\n",
    "    \n",
    "        # Display the table\n",
    "        fig = go.Figure(data=[go.Table(\n",
    "                header = dict(values=[column_name, \"Number of appearances\"],\n",
    "                         fill_color='paleturquoise', align='center'),\n",
    "                cells = dict(values = [unique_values[0], unique_values[1]],\n",
    "                             font = dict(family=\"Times New Roman\", size=14,)))])\n",
    "        fig.update_layout(title_text=\"Unique values for column %s\" % column_name,\n",
    "                          title_font_size=24, title_x=0.5, autosize=True)\n",
    "        fig.show()\n",
    "    except KeyError:\n",
    "        printmd(\"## Please select a column.\")\n",
    "    except IndexError:\n",
    "        printmd(\"## Please select a column.\")\n",
    "\n",
    "        \n",
    "# Function called when a drop-down selection is made \n",
    "def on_change(change):\n",
    "    with outs:\n",
    "        # Refresh the output for displaying a new figure\n",
    "        clear_output(wait=True)\n",
    "        if change['type'] == 'change' and change['name'] == 'value':\n",
    "            \n",
    "            # Retrieve the number of unique values\n",
    "            unique_values = get_unique_values_count(data, change['new'])\n",
    "            \n",
    "            # Display the number of unique values\n",
    "            unique_values_table_generation(unique_values, change['new'])\n",
    "\n",
    "# Widget definition\n",
    "outs = widgets.Output()\n",
    "printmd(\"#### Select a column from the list below:\")\n",
    "w = widgets.Dropdown(options = data.columns, description=\"Column: \", value = None)\n",
    "w.observe(on_change, names='value')\n",
    "display(w)\n",
    "display(outs)\n",
    "\n",
    "# Clean-up process\n",
    "with outs:\n",
    "    clear_output()"
   ]
  },
  {
   "cell_type": "markdown",
   "metadata": {},
   "source": [
    "# Assessing the plausibility of the dataset"
   ]
  },
  {
   "cell_type": "markdown",
   "metadata": {},
   "source": [
    "## Column similarity"
   ]
  },
  {
   "cell_type": "code",
   "execution_count": null,
   "metadata": {},
   "outputs": [],
   "source": [
    "f, ax = plt.subplots(figsize=(20, 11))\n",
    "try:\n",
    "    printmd(\"### Heatmap for column similarity: \")\n",
    "    df = data.apply(lambda x: x.factorize()[0]).corr()\n",
    "    sns.heatmap(df, annot=True, annot_kws={\"size\": 10}, linewidths=.5, cmap=\"BuPu\")\n",
    "except ValueError:\n",
    "    pass"
   ]
  },
  {
   "cell_type": "markdown",
   "metadata": {},
   "source": [
    "### Similarity between missing values indexes"
   ]
  },
  {
   "cell_type": "code",
   "execution_count": 66,
   "metadata": {},
   "outputs": [
    {
     "name": "stdout",
     "output_type": "stream",
     "text": [
      "city            ([4],)\n",
      "batch          ([12],)\n",
      "becktnt1    ([0, 12],)\n",
      "becktlt1        ([0],)\n",
      "test            ([2],)\n",
      "dtype: object\n"
     ]
    },
    {
     "name": "stderr",
     "output_type": "stream",
     "text": [
      "<ipython-input-66-8eaaac84cb03>:24: DeprecationWarning: The default dtype for empty Series will be 'object' instead of 'float64' in a future version. Specify a dtype explicitly to silence this warning.\n",
      "  values = pd.Series()\n"
     ]
    },
    {
     "data": {
      "text/markdown": [
       "## Similarity matrix for missing values indexes: "
      ],
      "text/plain": [
       "<IPython.core.display.Markdown object>"
      ]
     },
     "metadata": {},
     "output_type": "display_data"
    },
    {
     "data": {
      "text/html": [
       "<div>\n",
       "<style scoped>\n",
       "    .dataframe tbody tr th:only-of-type {\n",
       "        vertical-align: middle;\n",
       "    }\n",
       "\n",
       "    .dataframe tbody tr th {\n",
       "        vertical-align: top;\n",
       "    }\n",
       "\n",
       "    .dataframe thead th {\n",
       "        text-align: right;\n",
       "    }\n",
       "</style>\n",
       "<table border=\"1\" class=\"dataframe\">\n",
       "  <thead>\n",
       "    <tr style=\"text-align: right;\">\n",
       "      <th></th>\n",
       "      <th>city</th>\n",
       "      <th>batch</th>\n",
       "      <th>becktnt1</th>\n",
       "      <th>becktlt1</th>\n",
       "      <th>test</th>\n",
       "    </tr>\n",
       "  </thead>\n",
       "  <tbody>\n",
       "    <tr>\n",
       "      <th>city</th>\n",
       "      <td>1.0</td>\n",
       "      <td>1.0</td>\n",
       "      <td>0.0</td>\n",
       "      <td>0.0</td>\n",
       "      <td>1.0</td>\n",
       "    </tr>\n",
       "    <tr>\n",
       "      <th>batch</th>\n",
       "      <td>1.0</td>\n",
       "      <td>1.0</td>\n",
       "      <td>1.0</td>\n",
       "      <td>0.0</td>\n",
       "      <td>1.0</td>\n",
       "    </tr>\n",
       "    <tr>\n",
       "      <th>becktnt1</th>\n",
       "      <td>0.0</td>\n",
       "      <td>1.0</td>\n",
       "      <td>1.0</td>\n",
       "      <td>0.0</td>\n",
       "      <td>0.0</td>\n",
       "    </tr>\n",
       "    <tr>\n",
       "      <th>becktlt1</th>\n",
       "      <td>0.0</td>\n",
       "      <td>0.0</td>\n",
       "      <td>0.0</td>\n",
       "      <td>0.0</td>\n",
       "      <td>0.0</td>\n",
       "    </tr>\n",
       "    <tr>\n",
       "      <th>test</th>\n",
       "      <td>1.0</td>\n",
       "      <td>1.0</td>\n",
       "      <td>0.0</td>\n",
       "      <td>0.0</td>\n",
       "      <td>1.0</td>\n",
       "    </tr>\n",
       "  </tbody>\n",
       "</table>\n",
       "</div>"
      ],
      "text/plain": [
       "          city  batch  becktnt1  becktlt1  test\n",
       "city       1.0    1.0       0.0       0.0   1.0\n",
       "batch      1.0    1.0       1.0       0.0   1.0\n",
       "becktnt1   0.0    1.0       1.0       0.0   0.0\n",
       "becktlt1   0.0    0.0       0.0       0.0   0.0\n",
       "test       1.0    1.0       0.0       0.0   1.0"
      ]
     },
     "metadata": {},
     "output_type": "display_data"
    }
   ],
   "source": [
    "def get_cosine_similarity(req_arr1, req_arr2):\n",
    "    req_arr1 = req_arr1[0]\n",
    "    req_arr2 = req_arr2[0]\n",
    "    if len(req_arr2) > len(req_arr1):\n",
    "        req_arr1 = list(map(lambda x: 0 if x not in req_arr1 else x, req_arr2))\n",
    "    elif len(req_arr1) > len(req_arr2):\n",
    "        req_arr2 = list(map(lambda x: 0 if x not in req_arr2 else x, req_arr1))\n",
    "    dot_product = sum(x * y for (x, y) in zip(req_arr1, req_arr2))\n",
    "    magnitude_arr1 = math.sqrt(sum(pow(x, 2) for x in req_arr1))\n",
    "    magnitude_arr2 = math.sqrt(sum(pow(x, 2) for x in req_arr2))\n",
    "    if magnitude_arr1 == 0 or magnitude_arr2 == 0:\n",
    "        return 0.0\n",
    "    else:\n",
    "        return (dot_product / (magnitude_arr1 * magnitude_arr2))\n",
    "    \n",
    "def has_null_value(data, null_list):\n",
    "    null_elem = []\n",
    "    for c in data.columns:\n",
    "        for elem in data[c]:\n",
    "            if elem in null_list:\n",
    "                null_elem.append(elem)\n",
    "    return null_elem\n",
    "\n",
    "values = pd.Series()\n",
    "for column in data.columns:\n",
    "    values[column] = np.where(data[column].isnull() | data[column].isin(['NIL RETURN']))\n",
    "\n",
    "missing_val_indexes = values.drop(values.index[[index for index, value in enumerate(values) if value[0].size == 0]])\n",
    "print(missing_val_indexes)\n",
    "\n",
    "df = pd.DataFrame(columns = missing_val_indexes.index, index =  missing_val_indexes.index)\n",
    "\n",
    "for current_index_row in range(len(missing_val_indexes)):\n",
    "    for current_index_column in range(len(missing_val_indexes)):\n",
    "        df.iloc[current_index_row][current_index_column] = float(get_cosine_similarity(missing_val_indexes[current_index_row], missing_val_indexes[current_index_column]))\n",
    "        \n",
    "for column in df.columns:\n",
    "    df[column] = df[column].astype('float')\n",
    "\n",
    "printmd(\"## Similarity matrix for missing values indexes: \")    \n",
    "display(df)\n"
   ]
  },
  {
   "cell_type": "markdown",
   "metadata": {},
   "source": [
    "### Similarity heatmap for missing values indexes"
   ]
  },
  {
   "cell_type": "code",
   "execution_count": 67,
   "metadata": {},
   "outputs": [
    {
     "data": {
      "text/markdown": [
       "## Heatmap for missing values similarity: "
      ],
      "text/plain": [
       "<IPython.core.display.Markdown object>"
      ]
     },
     "metadata": {},
     "output_type": "display_data"
    },
    {
     "data": {
      "image/png": "[encoded data removed]",
      "text/plain": [
       "<Figure size 720x504 with 2 Axes>"
      ]
     },
     "metadata": {
      "needs_background": "light"
     },
     "output_type": "display_data"
    }
   ],
   "source": [
    "f, ax = plt.subplots(figsize=(10, 7))\n",
    "try:\n",
    "    printmd(\"## Heatmap for missing values similarity: \")\n",
    "    sns.heatmap(df, annot=True, annot_kws={\"size\": 10}, linewidths=.5, cmap=\"BuPu\")\n",
    "except ValueError:\n",
    "    pass"
   ]
  },
  {
   "cell_type": "markdown",
   "metadata": {},
   "source": [
    "# Missing values analysis"
   ]
  },
  {
   "cell_type": "code",
   "execution_count": 81,
   "metadata": {
    "scrolled": true
   },
   "outputs": [
    {
     "data": {
      "text/markdown": [
       "### Customised missing value"
      ],
      "text/plain": [
       "<IPython.core.display.Markdown object>"
      ]
     },
     "metadata": {},
     "output_type": "display_data"
    },
    {
     "data": {
      "text/markdown": [
       "Any entry that is equal to this customised missing value will be marked as 'missing'. If you have made a mistake, please rerun the cell."
      ],
      "text/plain": [
       "<IPython.core.display.Markdown object>"
      ]
     },
     "metadata": {},
     "output_type": "display_data"
    },
    {
     "data": {
      "text/markdown": [
       "You can mention more values by separating them by commas - e.g -9, 10, NULL"
      ],
      "text/plain": [
       "<IPython.core.display.Markdown object>"
      ]
     },
     "metadata": {},
     "output_type": "display_data"
    },
    {
     "data": {
      "application/vnd.jupyter.widget-view+json": {
       "model_id": "b93b3bbdda7d4fb0a3cd32cb2f5f2ada",
       "version_major": 2,
       "version_minor": 0
      },
      "text/plain": [
       "HBox(children=(Text(value='', description='Value'), Button(description='Submit', style=ButtonStyle())))"
      ]
     },
     "metadata": {},
     "output_type": "display_data"
    }
   ],
   "source": [
    "# This list will contain the users' configured missing values\n",
    "customised_missing_values = []\n",
    "\n",
    "def on_submit_button_click(b):\n",
    "    # Avoids adding empty strings to the list\n",
    "    if len(values.value) > 0:\n",
    "    \n",
    "        # The values are separated by commas\n",
    "        result = [x.strip() for x in values.value.split(',')]\n",
    "        customised_missing_values.extend(result)\n",
    "        \n",
    "        # Report to user the current state of the list\n",
    "        print(\"Customised missing values list: {}\".format(customised_missing_values))\n",
    "\n",
    "    \n",
    "printmd(\"### Customised missing value\")\n",
    "printmd(\"Any entry that is equal to this customised missing value will be marked as 'missing'. \\\n",
    "        If you have made a mistake, please rerun the cell.\")\n",
    "printmd(\"You can mention more values by separating them by commas - e.g -9, 10, NULL\")\n",
    "\n",
    "# User interface details\n",
    "values = widgets.Text(description='Value')\n",
    "button = widgets.Button(description=\"Submit\")\n",
    "Box = widgets.HBox([values, button])\n",
    "\n",
    "button.on_click(on_submit_button_click)\n",
    "Box"
   ]
  },
  {
   "cell_type": "code",
   "execution_count": 151,
   "metadata": {
    "scrolled": false
   },
   "outputs": [
    {
     "data": {
      "text/markdown": [
       "### The missing values:"
      ],
      "text/plain": [
       "<IPython.core.display.Markdown object>"
      ]
     },
     "metadata": {},
     "output_type": "display_data"
    },
    {
     "name": "stdout",
     "output_type": "stream",
     "text": [
      "    missing_values_count column_name\n",
      "0                   5825    yesvgst4\n",
      "1                   5107    yesvgst3\n",
      "2                   4180    yesvgst2\n",
      "3                   4071        test\n",
      "4                   4010    yesvtlt4\n",
      "5                   4010    yesvtnt4\n",
      "6                   4010    yesvyrt4\n",
      "7                   3100    yesvgst1\n",
      "8                   1332    beckyrt2\n",
      "9                   1332    becktnt2\n",
      "10                  1332    becktlt2\n",
      "11                  1322    yesvtlt3\n",
      "12                  1322    yesvyrt3\n",
      "13                  1322    yesvtnt3\n",
      "14                   892    becksct1\n",
      "15                   687    yesvtlt2\n",
      "16                   687    yesvtnt2\n"
     ]
    }
   ],
   "source": [
    "def get_missing_values_count(df_obj):\n",
    "    # Initialise the counter\n",
    "    count = 0\n",
    "    \n",
    "    # Count the number of null values, if there are any\n",
    "    null_values = df_obj.isnull()\n",
    "    general_missing_values_count = null_values.value_counts()\n",
    "    \n",
    "    if general_missing_values_count.size == 2:\n",
    "         count += general_missing_values_count[True]\n",
    "    \n",
    "    # Count the number of na values, if there are any\n",
    "    na_values = df_obj.isna()\n",
    "    general_missing_values_count = na_values.value_counts()\n",
    "    \n",
    "    if general_missing_values_count.size == 2:\n",
    "         count += general_missing_values_count[True]\n",
    "    \n",
    "    # Return the total number of null and na missing values\n",
    "    return count\n",
    "\n",
    "def check_missing_values(df_obj):\n",
    "    resultDict = {}\n",
    "    count = 0\n",
    "    \n",
    "    general_missing_values = get_missing_values_count(df_obj)\n",
    "    if general_missing_values:\n",
    "        count += general_missing_values\n",
    "    \n",
    "    # Check for empty values or for customised missing values\n",
    "    for elem in df_obj:\n",
    "        if elem in customised_missing_values or len(str(elem).strip()) == 0:\n",
    "            resultDict[count] = True\n",
    "        else:\n",
    "            resultDict[count] = False\n",
    "        count +=1\n",
    "    return pd.Series(resultDict)\n",
    "\n",
    "# Retrieve the missing information from the data object\n",
    "missing_values = pd.DataFrame()\n",
    "missing_data = data.apply(lambda x: sum(check_missing_values(x)), axis=0).sort_values(ascending=False)\n",
    "\n",
    "# Retrieve the number of missing values per column\n",
    "missing_values['missing_values_count'] = missing_data.values\n",
    "\n",
    "# Retrieve the name of the columns with missing data\n",
    "missing_values['column_name'] = missing_data.index\n",
    "\n",
    "# Retrieve the column name and the count of its missing values that are not 0\n",
    "missing_values = missing_values[missing_values['missing_values_count'] != 0]\n",
    "\n",
    "\n",
    "if missing_values.empty == True and data.isna().values.any() == False:\n",
    "    printmd(\"### There are no missing values in the data.\")\n",
    "else:\n",
    "    printmd(\"### The missing values:\")\n",
    "    print(missing_values)"
   ]
  },
  {
   "cell_type": "markdown",
   "metadata": {},
   "source": [
    "# Cleaning the dataset"
   ]
  },
  {
   "cell_type": "code",
   "execution_count": 59,
   "metadata": {
    "scrolled": false
   },
   "outputs": [
    {
     "data": {
      "text/markdown": [
       "## Missing values dataset transformation"
      ],
      "text/plain": [
       "<IPython.core.display.Markdown object>"
      ]
     },
     "metadata": {},
     "output_type": "display_data"
    },
    {
     "data": {
      "application/vnd.jupyter.widget-view+json": {
       "model_id": "cfae5c152a5243bcbd1b529293257d2a",
       "version_major": 2,
       "version_minor": 0
      },
      "text/plain": [
       "interactive(children=(Dropdown(description='Column', layout=Layout(display='flex'), options=('pidno', 'city', …"
      ]
     },
     "metadata": {},
     "output_type": "display_data"
    }
   ],
   "source": [
    "def save_to_aws():\n",
    "    try:\n",
    "        session = boto3.Session(\n",
    "            aws_access_key_id=access_key_text.value,\n",
    "            aws_secret_access_key=secret_access_key_text.value\n",
    "        )\n",
    "        s3 = session.resource('s3')\n",
    "\n",
    "        data.to_csv('new_dataset.csv')\n",
    "        s3.meta.client.upload_file(Filename='new_dataset.csv', Bucket=bucket_text.value, Key='new_dataset.csv')\n",
    "    except boto3.exceptions.S3UploadFailedError:\n",
    "        print(\">> The file couldn't be saved to AWS - Invalid AWS credentials.\")\n",
    "        \n",
    "def get_10_related_columns(column_name, data):\n",
    "    df = data.apply(lambda x: x.factorize()[0]).corr()\n",
    "    df = df.sort_values(by=column_name, ascending=False, axis=1)    \n",
    "    top_10_related_columns = []\n",
    "        \n",
    "    for row in df:\n",
    "        if row == column_name:\n",
    "            for i in range(len(df)):\n",
    "                top_10_related_columns.append(df.columns[i])\n",
    "                if i + 1== len(data.columns) or len(top_10_related_columns) == 10:\n",
    "                    return top_10_related_columns\n",
    "                \n",
    "# This drops empty strings, NA values and any values that the user \n",
    "# added to the customisation of missing values step\n",
    "def remove_column(column_name):\n",
    "    print(\"Initial shape of data set: \", data.shape)\n",
    "    data.drop([column_name], axis=1, inplace=True)\n",
    "    print(\"After removal shape of data set:\", data.shape)\n",
    "    columnDrop.options = data.columns\n",
    "    print(\"Column removed!\")\n",
    "   \n",
    "        \n",
    "# This function is performed in place \n",
    "# (directly changing the value of the variable data)\n",
    "def modify_values(column_name, replace_value):\n",
    "    try:\n",
    "        data[[column_name]] = data[[column_name]].fillna(value=replace_value)\n",
    "        data[[column_name]] = data[[column_name]].replace(' ', replace_value)\n",
    "        data[[column_name]] = data[[column_name]].replace('', replace_value)\n",
    "\n",
    "        if len(customised_missing_values) > 0:\n",
    "            for mv in customised_missing_values:\n",
    "                data[[column_name]] = data[[column_name]].replace(int(float(mv)), replace_value)\n",
    "        print(\"The missing values have been replaced with {}\".format(replace_value))\n",
    "    except TypeError:\n",
    "        print(\">> Error found when selecting transformation.\")\n",
    "        \n",
    "def on_button_clicked(b):\n",
    "    with output:\n",
    "        try:\n",
    "            column_name = columnDrop.value\n",
    "            if transformationDrop.value == \"Remove column\":\n",
    "                remove_column(column_name)\n",
    "                columnDrop.options = data.columns\n",
    "            elif transformationDrop.value == \"Change values to 0\":\n",
    "                modify_values(column_name, 0)\n",
    "            elif transformationDrop.value == \"Change values to NULL\":\n",
    "                modify_values(column_name, 'NULL')\n",
    "            \n",
    "            if saveToDrop.value == \"Your computer\":\n",
    "                data.to_csv('new_dataset.csv')\n",
    "                print(\"The newly generated data set has been saved to your computer under the name: {}\".format(\"new_dataset.csv\"))\n",
    "            else:\n",
    "                save_to_aws()\n",
    "        except TypeError as e:\n",
    "            print(\">> This action is not supported on the mentioned column!\", e)\n",
    "\n",
    "            \n",
    "layout = Layout(display='flex')\n",
    "\n",
    "printmd(\"## Missing values dataset transformation\")\n",
    "columnDrop = Dropdown(description=\"Column\", options = data.columns, layout=layout, style = {'description_width': 'initial'}, value = None)\n",
    "transformationDrop = Dropdown(description=\"Transformations\", options =  [\"Remove column\", \"Change values to 0\", \"Change values to NULL\"], layout=layout, style = {'description_width': 'initial'}, value = None)\n",
    "applyDrop = Dropdown(description=\"Apply to\", layout=layout, style = {'description_width': 'initial'}, value = None)\n",
    "relatedColumnsDrop = Dropdown(description=\"Related columns\", layout=layout, style = {'description_width': 'initial'}, value = None)\n",
    "saveToDrop = Dropdown(description=\"Save to\", options= [\"Your computer\", \"AWS\"], layout=layout, style = {'description_width': 'initial'}, value = None)\n",
    "\n",
    "access_key_text = widgets.Text(description='AWS Key', placeholder=\"AWS access key ID\")\n",
    "secret_access_key_text = widgets.Text(description='AWS Key', placeholder=\"AWS secret access key ID\")\n",
    "bucket_text = widgets.Text(description='AWS Bucket', placeholder=\"Bucket Name\")\n",
    "output = widgets.Output()\n",
    "\n",
    "\n",
    "button = widgets.Button(description=\"Submit\")\n",
    "output = widgets.Output()\n",
    "button.on_click(on_button_clicked)\n",
    "\n",
    "\n",
    "\n",
    "def update_columnDrop_options(*args):\n",
    "    applyDrop.options = [columnDrop.value, \"Related columns\"]\n",
    "columnDrop.observe(update_columnDrop_options) \n",
    "\n",
    "def update_applyDrop_options(*args):\n",
    "    if applyDrop.value == \"Related columns\":\n",
    "        relatedColumnsDrop.options = get_10_related_columns(columnDrop.value, data)\n",
    "    else:\n",
    "        relatedColumnsDrop.options = ''\n",
    "applyDrop.observe(update_applyDrop_options) \n",
    "\n",
    "\n",
    "\n",
    "@interact(column = columnDrop, transformations=transformationDrop, apply = applyDrop, save_to = saveToDrop, related_col = relatedColumnsDrop)\n",
    "def print_arguments(column, transformations, apply, save_to, related_col):\n",
    "    if save_to == \"AWS\":\n",
    "        display(access_key_text, secret_access_key_text, bucket_text)\n",
    "    if column is not None and transformations is not None and apply is not None and save_to is not None:\n",
    "        if apply == \"Related columns\":\n",
    "            if len(related_col) > 0 :\n",
    "                display(button, output)\n",
    "        else: \n",
    "            display(button, output)\n"
   ]
  }
 ],
 "metadata": {
  "kernelspec": {
   "display_name": "Python 3",
   "language": "python",
   "name": "python3"
  },
  "language_info": {
   "codemirror_mode": {
    "name": "ipython",
    "version": 3
   },
   "file_extension": ".py",
   "mimetype": "text/x-python",
   "name": "python",
   "nbconvert_exporter": "python",
   "pygments_lexer": "ipython3",
   "version": "3.9.2"
  }
 },
 "nbformat": 4,
 "nbformat_minor": 4
}
