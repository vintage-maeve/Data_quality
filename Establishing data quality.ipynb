{
 "cells": [
  {
   "cell_type": "code",
   "execution_count": 10,
   "metadata": {},
   "outputs": [],
   "source": [
    "# Import the libraries for the data quality step\n",
    "import pandas as pd\n",
    "import matplotlib.pyplot as plt\n",
    "import plotly.express as px\n",
    "import ipywidgets as widgets\n",
    "from ipywidgets import interactive\n",
    "from ipywidgets import Layout, FileUpload\n",
    "from IPython.display import Markdown, display\n",
    "import io\n",
    "import os\n",
    "import random\n",
    "import datetime\n",
    "import seaborn as sns\n",
    "from IPython.display import clear_output\n",
    "from pathlib import Path\n",
    "\n",
    "def printmd(string):\n",
    "    display(Markdown(string))"
   ]
  },
  {
   "cell_type": "markdown",
   "metadata": {},
   "source": [
    "# Data collection"
   ]
  },
  {
   "cell_type": "markdown",
   "metadata": {},
   "source": [
    "### Direct upload"
   ]
  },
  {
   "cell_type": "code",
   "execution_count": 2,
   "metadata": {
    "scrolled": true
   },
   "outputs": [],
   "source": [
    "# ----- For testing purposes ------\n",
    "file_path = \"./Datasets/dementiadatacollectionoctober2014csv15kb.csv\"\n",
    "data = pd.read_csv(file_path)"
   ]
  },
  {
   "cell_type": "markdown",
   "metadata": {},
   "source": [
    "### Use the upload button"
   ]
  },
  {
   "cell_type": "code",
   "execution_count": 3,
   "metadata": {},
   "outputs": [
    {
     "data": {
      "application/vnd.jupyter.widget-view+json": {
       "model_id": "11ac565dc9b04c9d906d94e992f6ed0d",
       "version_major": 2,
       "version_minor": 0
      },
      "text/plain": [
       "FileUpload(value={}, accept='.csv', description='Upload')"
      ]
     },
     "metadata": {},
     "output_type": "display_data"
    }
   ],
   "source": [
    "# Shows the upload widget\n",
    "upload = FileUpload(accept='.csv')\n",
    "upload"
   ]
  },
  {
   "cell_type": "code",
   "execution_count": 4,
   "metadata": {},
   "outputs": [
    {
     "data": {
      "text/markdown": [
       "#### Please enter a valid file.**"
      ],
      "text/plain": [
       "<IPython.core.display.Markdown object>"
      ]
     },
     "metadata": {},
     "output_type": "display_data"
    }
   ],
   "source": [
    "try:\n",
    "    uploaded_filename = next(iter(upload.value))\n",
    "    content = upload.value[uploaded_filename]['content']\n",
    "    data = pd.read_csv(io.BytesIO(content), header=0, escapechar='\\\\', encoding= 'unicode_escape')\n",
    "except StopIteration:\n",
    "    printmd(\"#### Please enter a valid file.**\")"
   ]
  },
  {
   "cell_type": "markdown",
   "metadata": {},
   "source": [
    "### Dataset preview "
   ]
  },
  {
   "cell_type": "code",
   "execution_count": null,
   "metadata": {},
   "outputs": [],
   "source": [
    "data.head()"
   ]
  },
  {
   "cell_type": "markdown",
   "metadata": {},
   "source": [
    "# General dataset metadata"
   ]
  },
  {
   "cell_type": "code",
   "execution_count": 11,
   "metadata": {},
   "outputs": [
    {
     "name": "stdout",
     "output_type": "stream",
     "text": [
      "D̲e̲s̲c̲r̲i̲p̲t̲i̲v̲e̲ ̲m̲e̲t̲a̲d̲a̲t̲a̲\n",
      "\n",
      "Format: csv\n",
      "Size: 1650 elements\n",
      "Last modified: 2021-02-05 14:16:34.047817\n",
      "\n",
      "S̲t̲r̲u̲c̲t̲u̲r̲a̲l̲ ̲m̲e̲t̲a̲d̲a̲t̲a̲\n",
      "\n",
      "All column names: ['Org name', 'Org code', ' Number of cases identified ', ' Number of emergency admissions ', 'Percentage of cases identified', ' Number of cases with diagnostic assessment  ', ' Number of cases with positive case finding question ', 'Percentage of cases with diagnostic assessment', 'Number of cases referred', 'Number of cases with positive or inconclusive diagnostic assessment', 'Percentage of cases referred']\n",
      "\n",
      "Total number of values for each column: \n",
      "\n",
      "Org name                                                               150\n",
      "Org code                                                               150\n",
      " Number of cases identified                                            150\n",
      " Number of emergency admissions                                        150\n",
      "Percentage of cases identified                                         150\n",
      " Number of cases with diagnostic assessment                            150\n",
      " Number of cases with positive case finding question                   150\n",
      "Percentage of cases with diagnostic assessment                         150\n",
      "Number of cases referred                                               150\n",
      "Number of cases with positive or inconclusive diagnostic assessment    150\n",
      "Percentage of cases referred                                           150\n",
      "dtype: int64 \n"
     ]
    }
   ],
   "source": [
    "print(\"\\u0332\".join(\"Descriptive metadata\\n\"))\n",
    "filename, file_extension = os.path.splitext(file_path)\n",
    "file_extension = file_extension.replace(\".\", \"\")\n",
    "file_path_obj = Path(file_path)\n",
    "last_modified = file_path_obj.stat().st_mtime\n",
    "\n",
    "print(\"Format: {}\".format(file_extension))\n",
    "print(\"Size: {} elements\".format(data.size))\n",
    "print(\"Last modified: {}\\n\".format(datetime.datetime.fromtimestamp(last_modified)))\n",
    "\n",
    "\n",
    "print(\"\\u0332\".join(\"Structural metadata\\n\"))\n",
    "print(\"All column names: {}\\n\".format(list(data.columns)))\n",
    "# data.isna().sum() is needed because the count function only returns the total number of non-na elements\n",
    "print(\"Total number of values for each column: \\n\\n{} \".format(data.count() + data.isna().sum()))\n",
    "\n"
   ]
  },
  {
   "cell_type": "markdown",
   "metadata": {},
   "source": [
    "# Values distribution for a specific column"
   ]
  },
  {
   "cell_type": "code",
   "execution_count": 12,
   "metadata": {},
   "outputs": [
    {
     "data": {
      "application/vnd.jupyter.widget-view+json": {
       "model_id": "ddc31dcfeb484d0b99c7f47e269ffecb",
       "version_major": 2,
       "version_minor": 0
      },
      "text/plain": [
       "Dropdown(description='Column: ', options=('Org name', 'Org code', ' Number of cases identified ', ' Number of …"
      ]
     },
     "metadata": {},
     "output_type": "display_data"
    },
    {
     "data": {
      "application/vnd.jupyter.widget-view+json": {
       "model_id": "b92662bef1174d4a9b2ecf8a4e608cca",
       "version_major": 2,
       "version_minor": 0
      },
      "text/plain": [
       "Output()"
      ]
     },
     "metadata": {},
     "output_type": "display_data"
    },
    {
     "data": {
      "text/plain": [
       "<Figure size 1440x360 with 0 Axes>"
      ]
     },
     "metadata": {},
     "output_type": "display_data"
    },
    {
     "data": {
      "text/plain": [
       "<Figure size 1440x360 with 0 Axes>"
      ]
     },
     "metadata": {},
     "output_type": "display_data"
    }
   ],
   "source": [
    "# Unique values for each column\n",
    "df_features = pd.DataFrame(index = data.columns)\n",
    "df_features['Total_Values'] = list(map(lambda x: data[x].count(), data.columns))\n",
    "df_features['Unique_Values'] = list(map(lambda x: data[x].value_counts().count(), data.columns))\n",
    "df_features['Most_Frequent_Value'] = list(map(lambda x: data[x].value_counts().sort_values(ascending = False).index[0], data.columns))\n",
    "df_features['Most_Frequent_Value_Count'] = list(map(lambda x: data[x].value_counts().sort_values(ascending = False).iloc[0], data.columns))\n",
    "df_features['Type_Data'] = list(map(lambda x: data[x].dtype, data.columns))\n",
    "\n",
    "def compute_values_dist_column(column_name):\n",
    "    plt.figure(figsize=(20,5))\n",
    "    if df_features['Unique_Values'][column_name] > 100:\n",
    "         fig = px.histogram(data, y=column_name,\n",
    "                            color_discrete_sequence =['#d595e8'],\n",
    "                            barmode=\"group\",\n",
    "                            title=\"Values distribution for column '{}'\".format(column_name)).update_yaxes(categoryorder=\"total ascending\")\n",
    "    else:\n",
    "         fig = px.histogram(data, y=column_name,\n",
    "                            color_discrete_sequence =['#d595e8'],\n",
    "                            barmode=\"group\", \n",
    "                            title=\"Values distribution for column '{}'\".format(column_name)).update_yaxes(categoryorder=\"total ascending\")\n",
    "    fig.show()\n",
    "\n",
    "w = widgets.Dropdown(options = data.columns, description=\"Column: \", value = None)\n",
    "def on_change(change):\n",
    "    with outs:\n",
    "        clear_output(wait=True)\n",
    "        if change['type'] == 'change' and change['name'] == 'value':\n",
    "            print(\" ----- Values distribution histogram for %s -----\" % change['new'])\n",
    "            compute_values_dist_column(change['new'])\n",
    "\n",
    "outs = widgets.Output()\n",
    "w.observe(on_change, names='value')\n",
    "display(w)\n",
    "display(outs)\n",
    "\n",
    "# Clean up\n",
    "with outs:\n",
    "    clear_output()\n"
   ]
  },
  {
   "cell_type": "markdown",
   "metadata": {},
   "source": [
    "#  Unique values for a specific column"
   ]
  },
  {
   "cell_type": "code",
   "execution_count": 13,
   "metadata": {},
   "outputs": [
    {
     "data": {
      "application/vnd.jupyter.widget-view+json": {
       "model_id": "34653e13afa3420892649f4a15a363c3",
       "version_major": 2,
       "version_minor": 0
      },
      "text/plain": [
       "Dropdown(description='Column: ', options=('Org name', 'Org code', ' Number of cases identified ', ' Number of …"
      ]
     },
     "metadata": {},
     "output_type": "display_data"
    },
    {
     "data": {
      "application/vnd.jupyter.widget-view+json": {
       "model_id": "7238a54150f64f938af750e6ffb3069c",
       "version_major": 2,
       "version_minor": 0
      },
      "text/plain": [
       "Output()"
      ]
     },
     "metadata": {},
     "output_type": "display_data"
    },
    {
     "data": {
      "text/plain": [
       "<Figure size 1440x360 with 0 Axes>"
      ]
     },
     "metadata": {},
     "output_type": "display_data"
    },
    {
     "data": {
      "text/plain": [
       "<Figure size 1440x360 with 0 Axes>"
      ]
     },
     "metadata": {},
     "output_type": "display_data"
    },
    {
     "data": {
      "text/plain": [
       "<Figure size 1440x360 with 0 Axes>"
      ]
     },
     "metadata": {},
     "output_type": "display_data"
    }
   ],
   "source": [
    "def get_unique_values(req_data, req_column):\n",
    "    return pd.Series(req_data[req_column].value_counts())\n",
    "\n",
    "def unique_values_dist_column(unique_values, column_name):\n",
    "    try:\n",
    "        plt.figure(figsize=(20,5))\n",
    "        fig = px.bar(unique_values, x=column_name,\n",
    "                           color_discrete_sequence =['#d595e8'],\n",
    "                           barmode=\"group\",\n",
    "                           title=\"Unique values for column '{}'\".format(column_name)).update_yaxes(categoryorder=\"total ascending\")\n",
    "        fig.show()\n",
    "    except KeyError:\n",
    "        printmd(\"## Please select a column.\")\n",
    "    except IndexError:\n",
    "        printmd(\"## Please select a column.\")\n",
    "        \n",
    "def on_change(change):\n",
    "    with outs:\n",
    "        clear_output(wait=True)\n",
    "        if change['type'] == 'change' and change['name'] == 'value':\n",
    "            print(\" ------ Unique values of %s -----\" % change['new'])\n",
    "            unique_values = get_unique_values(data, change['new']).to_frame()\n",
    "            unique_values.iloc[:, ::-1]\n",
    "            unique_values_dist_column(unique_values, change['new'])\n",
    "\n",
    "outs = widgets.Output()\n",
    "w = widgets.Dropdown(options = data.columns, description=\"Column: \", value = None)\n",
    "w.observe(on_change, names='value')\n",
    "display(w)\n",
    "display(outs)\n",
    "\n",
    "# Clean up\n",
    "with outs:\n",
    "    clear_output()"
   ]
  },
  {
   "cell_type": "markdown",
   "metadata": {},
   "source": [
    "# Assessing the plausibility of the dataset"
   ]
  },
  {
   "cell_type": "code",
   "execution_count": 14,
   "metadata": {},
   "outputs": [
    {
     "data": {
      "image/png": "[encoded data removed]",
      "text/plain": [
       "<Figure size 432x288 with 1 Axes>"
      ]
     },
     "metadata": {
      "needs_background": "light"
     },
     "output_type": "display_data"
    }
   ],
   "source": [
    "# Correlation test - determines the present and extent of a linear relationship between 2 quantitative variables\n",
    "# the number of cases identified are closely related to the number of emergency admissions\n",
    "# \n",
    "# This can be observed through the presence of the linear relationship between them.\n",
    "#\n",
    "# The data should be cleaned before doing the correlation test\n",
    "def cleanNullTerms(d):\n",
    "   return {\n",
    "      k:v if v != 'NIL RETURN' and not pd.isnull(v) else '0'\n",
    "      for k, v in d.items()\n",
    "   }\n",
    "\n",
    "cases = cleanNullTerms(data[' Number of cases identified '])\n",
    "admissions = cleanNullTerms(data[' Number of emergency admissions '])\n",
    "\n",
    "plt.scatter(cases.items(), admissions.items())\n",
    "plt.show()"
   ]
  }
 ],
 "metadata": {
  "kernelspec": {
   "display_name": "Python 3",
   "language": "python",
   "name": "python3"
  },
  "language_info": {
   "codemirror_mode": {
    "name": "ipython",
    "version": 3
   },
   "file_extension": ".py",
   "mimetype": "text/x-python",
   "name": "python",
   "nbconvert_exporter": "python",
   "pygments_lexer": "ipython3",
   "version": "3.9.0"
  }
 },
 "nbformat": 4,
 "nbformat_minor": 4
}
