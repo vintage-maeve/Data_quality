{
 "cells": [
  {
   "cell_type": "code",
   "execution_count": 2,
   "metadata": {},
   "outputs": [],
   "source": [
    "# Import the libraries for the data quality step\n",
    "import pandas as pd\n",
    "import matplotlib.pyplot as plt\n",
    "import plotly.express as px\n",
    "import ipywidgets as widgets\n",
    "from ipywidgets import interactive\n",
    "from ipywidgets import Layout, FileUpload\n",
    "from IPython.display import Markdown, display\n",
    "import io\n",
    "import os\n",
    "import random\n",
    "import datetime\n",
    "import seaborn as sns\n",
    "from IPython.display import clear_output\n",
    "from pathlib import Path\n",
    "import plotly.graph_objects as go\n",
    "\n",
    "def printmd(string):\n",
    "    display(Markdown(string))"
   ]
  },
  {
   "cell_type": "markdown",
   "metadata": {},
   "source": [
    "# Data collection"
   ]
  },
  {
   "cell_type": "markdown",
   "metadata": {},
   "source": [
    "### Direct upload"
   ]
  },
  {
   "cell_type": "code",
   "execution_count": 3,
   "metadata": {
    "scrolled": true
   },
   "outputs": [],
   "source": [
    "# ----- For testing purposes ------\n",
    "file_path = \"./Datasets/dementiadatacollectionoctober2014csv15kb.csv\"\n",
    "data = pd.read_csv(file_path)"
   ]
  },
  {
   "cell_type": "markdown",
   "metadata": {},
   "source": [
    "### Use the upload button"
   ]
  },
  {
   "cell_type": "code",
   "execution_count": null,
   "metadata": {},
   "outputs": [],
   "source": [
    "# Shows the upload widget\n",
    "upload = FileUpload(accept='.csv')\n",
    "upload"
   ]
  },
  {
   "cell_type": "code",
   "execution_count": null,
   "metadata": {},
   "outputs": [],
   "source": [
    "try:\n",
    "    uploaded_filename = next(iter(upload.value))\n",
    "    content = upload.value[uploaded_filename]['content']\n",
    "    data = pd.read_csv(io.BytesIO(content), header=0, escapechar='\\\\', encoding= 'unicode_escape')\n",
    "except StopIteration:\n",
    "    printmd(\"#### Please enter a valid file.**\")"
   ]
  },
  {
   "cell_type": "markdown",
   "metadata": {},
   "source": [
    "### Dataset preview "
   ]
  },
  {
   "cell_type": "code",
   "execution_count": 4,
   "metadata": {},
   "outputs": [
    {
     "data": {
      "text/html": [
       "<div>\n",
       "<style scoped>\n",
       "    .dataframe tbody tr th:only-of-type {\n",
       "        vertical-align: middle;\n",
       "    }\n",
       "\n",
       "    .dataframe tbody tr th {\n",
       "        vertical-align: top;\n",
       "    }\n",
       "\n",
       "    .dataframe thead th {\n",
       "        text-align: right;\n",
       "    }\n",
       "</style>\n",
       "<table border=\"1\" class=\"dataframe\">\n",
       "  <thead>\n",
       "    <tr style=\"text-align: right;\">\n",
       "      <th></th>\n",
       "      <th>Org name</th>\n",
       "      <th>Org code</th>\n",
       "      <th>Number of cases identified</th>\n",
       "      <th>Number of emergency admissions</th>\n",
       "      <th>Percentage of cases identified</th>\n",
       "      <th>Number of cases with diagnostic assessment</th>\n",
       "      <th>Number of cases with positive case finding question</th>\n",
       "      <th>Percentage of cases with diagnostic assessment</th>\n",
       "      <th>Number of cases referred</th>\n",
       "      <th>Number of cases with positive or inconclusive diagnostic assessment</th>\n",
       "      <th>Percentage of cases referred</th>\n",
       "    </tr>\n",
       "  </thead>\n",
       "  <tbody>\n",
       "    <tr>\n",
       "      <th>0</th>\n",
       "      <td>AINTREE UNIVERSITY HOSPITAL NHS FOUNDATION TRUST</td>\n",
       "      <td>REM</td>\n",
       "      <td>302</td>\n",
       "      <td>369</td>\n",
       "      <td>82%</td>\n",
       "      <td>40</td>\n",
       "      <td>48</td>\n",
       "      <td>83%</td>\n",
       "      <td>8</td>\n",
       "      <td>8</td>\n",
       "      <td>100%</td>\n",
       "    </tr>\n",
       "    <tr>\n",
       "      <th>1</th>\n",
       "      <td>AIREDALE NHS FOUNDATION TRUST</td>\n",
       "      <td>RCF</td>\n",
       "      <td>229</td>\n",
       "      <td>253</td>\n",
       "      <td>91%</td>\n",
       "      <td>15</td>\n",
       "      <td>16</td>\n",
       "      <td>94%</td>\n",
       "      <td>5</td>\n",
       "      <td>5</td>\n",
       "      <td>100%</td>\n",
       "    </tr>\n",
       "    <tr>\n",
       "      <th>2</th>\n",
       "      <td>ASHFORD AND ST PETER'S HOSPITALS NHS FOUNDATIO...</td>\n",
       "      <td>RTK</td>\n",
       "      <td>374</td>\n",
       "      <td>382</td>\n",
       "      <td>98%</td>\n",
       "      <td>57</td>\n",
       "      <td>57</td>\n",
       "      <td>100%</td>\n",
       "      <td>57</td>\n",
       "      <td>57</td>\n",
       "      <td>100%</td>\n",
       "    </tr>\n",
       "    <tr>\n",
       "      <th>3</th>\n",
       "      <td>BARNSLEY HOSPITAL NHS FOUNDATION TRUST</td>\n",
       "      <td>RFF</td>\n",
       "      <td>242</td>\n",
       "      <td>253</td>\n",
       "      <td>96%</td>\n",
       "      <td>50</td>\n",
       "      <td>51</td>\n",
       "      <td>98%</td>\n",
       "      <td>6</td>\n",
       "      <td>6</td>\n",
       "      <td>100%</td>\n",
       "    </tr>\n",
       "    <tr>\n",
       "      <th>4</th>\n",
       "      <td>BASILDON AND THURROCK UNIVERSITY HOSPITALS NHS...</td>\n",
       "      <td>RDD</td>\n",
       "      <td>510</td>\n",
       "      <td>545</td>\n",
       "      <td>94%</td>\n",
       "      <td>510</td>\n",
       "      <td>545</td>\n",
       "      <td>94%</td>\n",
       "      <td>19</td>\n",
       "      <td>20</td>\n",
       "      <td>95%</td>\n",
       "    </tr>\n",
       "  </tbody>\n",
       "</table>\n",
       "</div>"
      ],
      "text/plain": [
       "                                            Org name Org code  \\\n",
       "0   AINTREE UNIVERSITY HOSPITAL NHS FOUNDATION TRUST      REM   \n",
       "1                      AIREDALE NHS FOUNDATION TRUST      RCF   \n",
       "2  ASHFORD AND ST PETER'S HOSPITALS NHS FOUNDATIO...      RTK   \n",
       "3             BARNSLEY HOSPITAL NHS FOUNDATION TRUST      RFF   \n",
       "4  BASILDON AND THURROCK UNIVERSITY HOSPITALS NHS...      RDD   \n",
       "\n",
       "   Number of cases identified   Number of emergency admissions   \\\n",
       "0                          302                              369   \n",
       "1                          229                              253   \n",
       "2                          374                              382   \n",
       "3                          242                              253   \n",
       "4                          510                              545   \n",
       "\n",
       "  Percentage of cases identified  \\\n",
       "0                            82%   \n",
       "1                            91%   \n",
       "2                            98%   \n",
       "3                            96%   \n",
       "4                            94%   \n",
       "\n",
       "   Number of cases with diagnostic assessment    \\\n",
       "0                                            40   \n",
       "1                                            15   \n",
       "2                                            57   \n",
       "3                                            50   \n",
       "4                                           510   \n",
       "\n",
       "   Number of cases with positive case finding question   \\\n",
       "0                                                 48      \n",
       "1                                                 16      \n",
       "2                                                 57      \n",
       "3                                                 51      \n",
       "4                                                545      \n",
       "\n",
       "  Percentage of cases with diagnostic assessment Number of cases referred  \\\n",
       "0                                            83%                        8   \n",
       "1                                            94%                        5   \n",
       "2                                           100%                       57   \n",
       "3                                            98%                        6   \n",
       "4                                            94%                       19   \n",
       "\n",
       "  Number of cases with positive or inconclusive diagnostic assessment  \\\n",
       "0                                                  8                    \n",
       "1                                                  5                    \n",
       "2                                                 57                    \n",
       "3                                                  6                    \n",
       "4                                                 20                    \n",
       "\n",
       "  Percentage of cases referred  \n",
       "0                         100%  \n",
       "1                         100%  \n",
       "2                         100%  \n",
       "3                         100%  \n",
       "4                          95%  "
      ]
     },
     "execution_count": 4,
     "metadata": {},
     "output_type": "execute_result"
    }
   ],
   "source": [
    "data.head()"
   ]
  },
  {
   "cell_type": "markdown",
   "metadata": {},
   "source": [
    "# General dataset metadata"
   ]
  },
  {
   "cell_type": "code",
   "execution_count": null,
   "metadata": {},
   "outputs": [],
   "source": [
    "print(\"\\u0332\".join(\"Descriptive metadata\\n\"))\n",
    "filename, file_extension = os.path.splitext(file_path)\n",
    "file_extension = file_extension.replace(\".\", \"\")\n",
    "file_path_obj = Path(file_path)\n",
    "last_modified = file_path_obj.stat().st_mtime\n",
    "\n",
    "print(\"Format: {}\".format(file_extension))\n",
    "print(\"Size: {} elements\".format(data.size))\n",
    "print(\"Last modified: {}\\n\".format(datetime.datetime.fromtimestamp(last_modified)))\n",
    "\n",
    "\n",
    "print(\"\\u0332\".join(\"Structural metadata\\n\"))\n",
    "print(\"All column names: {}\\n\".format(list(data.columns)))\n",
    "# data.isna().sum() is needed because the count function only returns the total number of non-na elements\n",
    "print(\"Total number of values for each column: \\n\\n{} \".format(data.count() + data.isna().sum()))\n",
    "\n"
   ]
  },
  {
   "cell_type": "markdown",
   "metadata": {},
   "source": [
    "# Values distribution for a specific column"
   ]
  },
  {
   "cell_type": "code",
   "execution_count": 83,
   "metadata": {},
   "outputs": [
    {
     "data": {
      "application/vnd.jupyter.widget-view+json": {
       "model_id": "253d979b65be40b3b536e8c5640fffd2",
       "version_major": 2,
       "version_minor": 0
      },
      "text/plain": [
       "Dropdown(description='Column: ', options=('Org name', 'Org code', ' Number of cases identified ', ' Number of …"
      ]
     },
     "metadata": {},
     "output_type": "display_data"
    },
    {
     "data": {
      "application/vnd.jupyter.widget-view+json": {
       "model_id": "b31a6d2edd46463caf749d4fb38e6e14",
       "version_major": 2,
       "version_minor": 0
      },
      "text/plain": [
       "Output()"
      ]
     },
     "metadata": {},
     "output_type": "display_data"
    }
   ],
   "source": [
    "# Unique values for each column\n",
    "df_features = pd.DataFrame(index = data.columns)\n",
    "df_features['Total_Values'] = list(map(lambda x: data[x].count(), data.columns))\n",
    "df_features['Unique_Values'] = list(map(lambda x: data[x].value_counts().count(), data.columns))\n",
    "df_features['Most_Frequent_Value'] = list(map(lambda x: data[x].value_counts().sort_values(ascending = False).index[0], data.columns))\n",
    "df_features['Most_Frequent_Value_Count'] = list(map(lambda x: data[x].value_counts().sort_values(ascending = False).iloc[0], data.columns))\n",
    "df_features['Type_Data'] = list(map(lambda x: data[x].dtype, data.columns))\n",
    "\n",
    "def compute_values_dist_column(column_name):\n",
    "    plt.figure(figsize=(20,5))\n",
    "    if df_features['Unique_Values'][column_name] > 100:\n",
    "         fig = px.histogram(data, y=column_name,\n",
    "                            color_discrete_sequence =['#d595e8'],\n",
    "                            barmode=\"group\",\n",
    "                            title=\"Values distribution for column '{}'\".format(column_name)).update_yaxes(categoryorder=\"total ascending\")\n",
    "    else:\n",
    "         fig = px.histogram(data, y=column_name,\n",
    "                            color_discrete_sequence =['#d595e8'],\n",
    "                            barmode=\"group\", \n",
    "                            title=\"Values distribution for column '{}'\".format(column_name)).update_yaxes(categoryorder=\"total ascending\")\n",
    "    fig.show()\n",
    "\n",
    "w = widgets.Dropdown(options = data.columns, description=\"Column: \", value = None)\n",
    "def on_change(change):\n",
    "    with outs:\n",
    "        clear_output(wait=True)\n",
    "        if change['type'] == 'change' and change['name'] == 'value':\n",
    "            print(\" ----- Values distribution histogram for %s -----\" % change['new'])\n",
    "            compute_values_dist_column(change['new'])\n",
    "\n",
    "outs = widgets.Output()\n",
    "w.observe(on_change, names='value')\n",
    "display(w)\n",
    "display(outs)\n",
    "\n",
    "# Clean up\n",
    "with outs:\n",
    "    clear_output()\n"
   ]
  },
  {
   "cell_type": "markdown",
   "metadata": {},
   "source": [
    "#  Unique values for a specific column"
   ]
  },
  {
   "cell_type": "code",
   "execution_count": 182,
   "metadata": {},
   "outputs": [
    {
     "data": {
      "application/vnd.jupyter.widget-view+json": {
       "model_id": "0d0ef5da378d4c1993bb63ea1052f00e",
       "version_major": 2,
       "version_minor": 0
      },
      "text/plain": [
       "Dropdown(description='Column: ', options=('Org name', 'Org code', ' Number of cases identified ', ' Number of …"
      ]
     },
     "metadata": {},
     "output_type": "display_data"
    },
    {
     "data": {
      "application/vnd.jupyter.widget-view+json": {
       "model_id": "5ae83bad66c941ba8686573a35844029",
       "version_major": 2,
       "version_minor": 0
      },
      "text/plain": [
       "Output()"
      ]
     },
     "metadata": {},
     "output_type": "display_data"
    },
    {
     "data": {
      "text/plain": [
       "<Figure size 2880x1080 with 0 Axes>"
      ]
     },
     "metadata": {},
     "output_type": "display_data"
    }
   ],
   "source": [
    "def get_unique_values_count(req_data, req_column):\n",
    "    return [req_data[req_column].value_counts().index.tolist(), req_data[req_column].value_counts()]\n",
    "\n",
    "\n",
    "def unique_values_dist_column(unique_values, column_name):\n",
    "    try:\n",
    "        plt.figure(figsize=(40, 15))\n",
    "    \n",
    "        fig = go.Figure(data=[go.Table(\n",
    "                header = dict(values=[column_name, \"Number of appearances\"],\n",
    "                         fill_color='paleturquoise', align='center'),\n",
    "                cells = dict(values = [unique_values[0], unique_values[1]],\n",
    "                             font = dict(family=\"Times New Roman\", size=14,)))])\n",
    "        fig.update_layout(title_text=\"Unique values for column %s\" % column_name,\n",
    "                          title_font_size=24, title_x=0.5, autosize=True)\n",
    "        fig.show()\n",
    "    except KeyError:\n",
    "        printmd(\"## Please select a column.\")\n",
    "    except IndexError:\n",
    "        printmd(\"## Please select a column.\")\n",
    "        \n",
    "def on_change(change):\n",
    "    with outs:\n",
    "        clear_output(wait=True)\n",
    "        if change['type'] == 'change' and change['name'] == 'value':\n",
    "            unique_values = get_unique_values_count(data, change['new'])\n",
    "#             unique_values.iloc[:, ::-1]\n",
    "            unique_values_dist_column(unique_values, change['new'])\n",
    "\n",
    "outs = widgets.Output()\n",
    "w = widgets.Dropdown(options = data.columns, description=\"Column: \", value = None)\n",
    "w.observe(on_change, names='value')\n",
    "display(w)\n",
    "display(outs)\n",
    "\n",
    "# Clean up\n",
    "with outs:\n",
    "    clear_output()"
   ]
  },
  {
   "cell_type": "markdown",
   "metadata": {},
   "source": [
    "# Missing values analysis"
   ]
  },
  {
   "cell_type": "markdown",
   "metadata": {},
   "source": [
    "Check for any missing value"
   ]
  },
  {
   "cell_type": "code",
   "execution_count": 205,
   "metadata": {},
   "outputs": [],
   "source": [
    "# todo: adapt this method for when x is a series object\n",
    "def check_missing_values(dfObj):\n",
    "    resultDict = {}\n",
    "    count = 0\n",
    "    for elem in dfObj:\n",
    "        if elem == 'NIL RETURN':\n",
    "            resultDict[count] = True\n",
    "        else:\n",
    "            resultDict[count] = False\n",
    "        count +=1\n",
    "    return pd.Series(resultDict)\n",
    "\n",
    "missing_values = pd.DataFrame()\n",
    "missing_data = data.apply(lambda x: sum(check_missing_values(x)), axis=0).sort_values(ascending=False)\n",
    "missing_values['missing_values_count'] = missing_data.values\n",
    "missing_values['feature_name'] = missing_data.index\n",
    "missing_values = missing_values[missing_values['missing_values_count'] != 0]"
   ]
  },
  {
   "cell_type": "code",
   "execution_count": 206,
   "metadata": {},
   "outputs": [
    {
     "data": {
      "text/markdown": [
       "## The missing values:"
      ],
      "text/plain": [
       "<IPython.core.display.Markdown object>"
      ]
     },
     "metadata": {},
     "output_type": "display_data"
    },
    {
     "name": "stdout",
     "output_type": "stream",
     "text": [
      "   missing_values_count                                       feature_name\n",
      "0                     4                       Percentage of cases referred\n",
      "1                     4  Number of cases with positive or inconclusive ...\n",
      "2                     4                           Number of cases referred\n",
      "3                     4     Percentage of cases with diagnostic assessment\n",
      "4                     4   Number of cases with positive case finding qu...\n",
      "5                     4       Number of cases with diagnostic assessment  \n",
      "6                     4                     Percentage of cases identified\n",
      "7                     4                    Number of emergency admissions \n",
      "8                     4                        Number of cases identified \n"
     ]
    }
   ],
   "source": [
    "if missing_values.empty == True:\n",
    "    print(\"There are no missing values in the data.\")\n",
    "else:\n",
    "    printmd(\"## The missing values:\")\n",
    "    print(missing_values)"
   ]
  },
  {
   "cell_type": "code",
   "execution_count": null,
   "metadata": {},
   "outputs": [],
   "source": []
  },
  {
   "cell_type": "markdown",
   "metadata": {},
   "source": [
    "# Assessing the plausibility of the dataset"
   ]
  },
  {
   "cell_type": "code",
   "execution_count": null,
   "metadata": {},
   "outputs": [],
   "source": [
    "# Correlation test - determines the present and extent of a linear relationship between 2 quantitative variables\n",
    "# the number of cases identified are closely related to the number of emergency admissions\n",
    "# \n",
    "# This can be observed through the presence of the linear relationship between them.\n",
    "#\n",
    "# The data should be cleaned before doing the correlation test\n",
    "def cleanNullTerms(d):\n",
    "   return {\n",
    "      k:v if v != 'NIL RETURN' and not pd.isnull(v) else '0'\n",
    "      for k, v in d.items()\n",
    "   }\n",
    "\n",
    "cases = cleanNullTerms(data[' Number of cases identified '])\n",
    "admissions = cleanNullTerms(data[' Number of emergency admissions '])\n",
    "\n",
    "plt.scatter(cases.items(), admissions.items())\n",
    "plt.show()"
   ]
  }
 ],
 "metadata": {
  "kernelspec": {
   "display_name": "Python 3",
   "language": "python",
   "name": "python3"
  },
  "language_info": {
   "codemirror_mode": {
    "name": "ipython",
    "version": 3
   },
   "file_extension": ".py",
   "mimetype": "text/x-python",
   "name": "python",
   "nbconvert_exporter": "python",
   "pygments_lexer": "ipython3",
   "version": "3.9.0"
  }
 },
 "nbformat": 4,
 "nbformat_minor": 4
}
